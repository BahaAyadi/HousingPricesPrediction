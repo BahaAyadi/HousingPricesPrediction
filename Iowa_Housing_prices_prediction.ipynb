{
  "nbformat": 4,
  "nbformat_minor": 0,
  "metadata": {
    "colab": {
      "name": "Iowa Housing prices prediction.ipynb",
      "provenance": [],
      "collapsed_sections": [],
      "authorship_tag": "ABX9TyM6PUs37+1irJCzOFHlaHgo",
      "include_colab_link": true
    },
    "kernelspec": {
      "name": "python3",
      "display_name": "Python 3"
    }
  },
  "cells": [
    {
      "cell_type": "markdown",
      "metadata": {
        "id": "view-in-github",
        "colab_type": "text"
      },
      "source": [
        "<a href=\"https://colab.research.google.com/github/BahaAyadi/HousingPricesPrediction/blob/master/Iowa_Housing_prices_prediction.ipynb\" target=\"_parent\"><img src=\"https://colab.research.google.com/assets/colab-badge.svg\" alt=\"Open In Colab\"/></a>"
      ]
    },
    {
      "cell_type": "code",
      "metadata": {
        "id": "jVd9cMgWKkKx",
        "colab_type": "code",
        "colab": {
          "base_uri": "https://localhost:8080/",
          "height": 125
        },
        "outputId": "d4706315-a511-42fa-f66d-acb99f777d80"
      },
      "source": [
        "from google.colab import drive\n",
        "drive.mount('/content/drive')"
      ],
      "execution_count": null,
      "outputs": [
        {
          "output_type": "stream",
          "text": [
            "Go to this URL in a browser: https://accounts.google.com/o/oauth2/auth?client_id=947318989803-6bn6qk8qdgf4n4g3pfee6491hc0brc4i.apps.googleusercontent.com&redirect_uri=urn%3aietf%3awg%3aoauth%3a2.0%3aoob&response_type=code&scope=email%20https%3a%2f%2fwww.googleapis.com%2fauth%2fdocs.test%20https%3a%2f%2fwww.googleapis.com%2fauth%2fdrive%20https%3a%2f%2fwww.googleapis.com%2fauth%2fdrive.photos.readonly%20https%3a%2f%2fwww.googleapis.com%2fauth%2fpeopleapi.readonly\n",
            "\n",
            "Enter your authorization code:\n",
            "··········\n",
            "Mounted at /content/drive\n"
          ],
          "name": "stdout"
        }
      ]
    },
    {
      "cell_type": "code",
      "metadata": {
        "id": "W6gRzkIsKyNu",
        "colab_type": "code",
        "colab": {}
      },
      "source": [
        "import keras\n",
        "import pandas as pd\n",
        "import numpy as np \n"
      ],
      "execution_count": null,
      "outputs": []
    },
    {
      "cell_type": "code",
      "metadata": {
        "id": "eWG5JnSxLAoH",
        "colab_type": "code",
        "colab": {}
      },
      "source": [
        "dataset = pd.read_csv('drive/My Drive/HousingPrices.csv')"
      ],
      "execution_count": null,
      "outputs": []
    },
    {
      "cell_type": "code",
      "metadata": {
        "id": "GksYOAJQLGhB",
        "colab_type": "code",
        "colab": {
          "base_uri": "https://localhost:8080/",
          "height": 195
        },
        "outputId": "cacddb8d-46e1-479b-d4c5-e4eaf0492a67"
      },
      "source": [
        "dataset.head()"
      ],
      "execution_count": null,
      "outputs": [
        {
          "output_type": "execute_result",
          "data": {
            "text/html": [
              "<div>\n",
              "<style scoped>\n",
              "    .dataframe tbody tr th:only-of-type {\n",
              "        vertical-align: middle;\n",
              "    }\n",
              "\n",
              "    .dataframe tbody tr th {\n",
              "        vertical-align: top;\n",
              "    }\n",
              "\n",
              "    .dataframe thead th {\n",
              "        text-align: right;\n",
              "    }\n",
              "</style>\n",
              "<table border=\"1\" class=\"dataframe\">\n",
              "  <thead>\n",
              "    <tr style=\"text-align: right;\">\n",
              "      <th></th>\n",
              "      <th>YearBuilt</th>\n",
              "      <th>2ndFlrSF</th>\n",
              "      <th>GrLivArea</th>\n",
              "      <th>FullBath</th>\n",
              "      <th>HalfBath</th>\n",
              "      <th>BedroomAbvGr</th>\n",
              "      <th>TotRmsAbvGrd</th>\n",
              "      <th>YrSold</th>\n",
              "      <th>SalePrice</th>\n",
              "    </tr>\n",
              "  </thead>\n",
              "  <tbody>\n",
              "    <tr>\n",
              "      <th>0</th>\n",
              "      <td>2003</td>\n",
              "      <td>854</td>\n",
              "      <td>1710</td>\n",
              "      <td>2</td>\n",
              "      <td>1</td>\n",
              "      <td>3</td>\n",
              "      <td>8</td>\n",
              "      <td>2008</td>\n",
              "      <td>208500</td>\n",
              "    </tr>\n",
              "    <tr>\n",
              "      <th>1</th>\n",
              "      <td>1976</td>\n",
              "      <td>0</td>\n",
              "      <td>1262</td>\n",
              "      <td>2</td>\n",
              "      <td>0</td>\n",
              "      <td>3</td>\n",
              "      <td>6</td>\n",
              "      <td>2007</td>\n",
              "      <td>181500</td>\n",
              "    </tr>\n",
              "    <tr>\n",
              "      <th>2</th>\n",
              "      <td>2001</td>\n",
              "      <td>866</td>\n",
              "      <td>1786</td>\n",
              "      <td>2</td>\n",
              "      <td>1</td>\n",
              "      <td>3</td>\n",
              "      <td>6</td>\n",
              "      <td>2008</td>\n",
              "      <td>223500</td>\n",
              "    </tr>\n",
              "    <tr>\n",
              "      <th>3</th>\n",
              "      <td>1915</td>\n",
              "      <td>756</td>\n",
              "      <td>1717</td>\n",
              "      <td>1</td>\n",
              "      <td>0</td>\n",
              "      <td>3</td>\n",
              "      <td>7</td>\n",
              "      <td>2006</td>\n",
              "      <td>140000</td>\n",
              "    </tr>\n",
              "    <tr>\n",
              "      <th>4</th>\n",
              "      <td>2000</td>\n",
              "      <td>1053</td>\n",
              "      <td>2198</td>\n",
              "      <td>2</td>\n",
              "      <td>1</td>\n",
              "      <td>4</td>\n",
              "      <td>9</td>\n",
              "      <td>2008</td>\n",
              "      <td>250000</td>\n",
              "    </tr>\n",
              "  </tbody>\n",
              "</table>\n",
              "</div>"
            ],
            "text/plain": [
              "   YearBuilt  2ndFlrSF  GrLivArea  ...  TotRmsAbvGrd  YrSold  SalePrice\n",
              "0       2003       854       1710  ...             8    2008     208500\n",
              "1       1976         0       1262  ...             6    2007     181500\n",
              "2       2001       866       1786  ...             6    2008     223500\n",
              "3       1915       756       1717  ...             7    2006     140000\n",
              "4       2000      1053       2198  ...             9    2008     250000\n",
              "\n",
              "[5 rows x 9 columns]"
            ]
          },
          "metadata": {
            "tags": []
          },
          "execution_count": 7
        }
      ]
    },
    {
      "cell_type": "code",
      "metadata": {
        "id": "pAO3DSEZLKpp",
        "colab_type": "code",
        "colab": {}
      },
      "source": [
        "X = dataset.drop(columns=['SalePrice'])\n",
        "Y = dataset[['SalePrice']].values"
      ],
      "execution_count": null,
      "outputs": []
    },
    {
      "cell_type": "code",
      "metadata": {
        "id": "YVqf7NXvLvT9",
        "colab_type": "code",
        "colab": {}
      },
      "source": [
        "model = keras.Sequential()\n",
        "model.add(keras.layers.Dense(8, activation = 'relu', input_shape=(8,)))\n",
        "model.add(keras.layers.Dense(8, activation ='relu'))\n",
        "model.add(keras.layers.Dense(1))\n",
        "model.compile(optimizer='adam', loss ='mean_squared_error')"
      ],
      "execution_count": null,
      "outputs": []
    },
    {
      "cell_type": "code",
      "metadata": {
        "id": "PK0Xon_INKUi",
        "colab_type": "code",
        "colab": {
          "base_uri": "https://localhost:8080/",
          "height": 1000
        },
        "outputId": "13ceba7d-641f-494a-de1e-6fbe8864f08b"
      },
      "source": [
        "model.fit(X,Y,epochs=30 , callbacks=[keras.callbacks.EarlyStopping(patience=5)])"
      ],
      "execution_count": null,
      "outputs": [
        {
          "output_type": "stream",
          "text": [
            "Epoch 1/30\n",
            "1460/1460 [==============================] - 0s 212us/step - loss: 39016510663.1890\n",
            "Epoch 2/30\n",
            "1460/1460 [==============================] - 0s 32us/step - loss: 38930086398.5973\n",
            "Epoch 3/30\n",
            "1460/1460 [==============================] - 0s 32us/step - loss: 38746934824.6795\n",
            "Epoch 4/30\n",
            "1460/1460 [==============================] - 0s 32us/step - loss: 38407157238.1808\n",
            "Epoch 5/30\n",
            "1460/1460 [==============================] - 0s 32us/step - loss: 37861644865.9288\n",
            "Epoch 6/30\n",
            "  32/1460 [..............................] - ETA: 0s - loss: 29396508672.0000"
          ],
          "name": "stdout"
        },
        {
          "output_type": "stream",
          "text": [
            "/usr/local/lib/python3.6/dist-packages/keras/callbacks/callbacks.py:846: RuntimeWarning: Early stopping conditioned on metric `val_loss` which is not available. Available metrics are: loss\n",
            "  (self.monitor, ','.join(list(logs.keys()))), RuntimeWarning\n"
          ],
          "name": "stderr"
        },
        {
          "output_type": "stream",
          "text": [
            "1460/1460 [==============================] - 0s 34us/step - loss: 37057724831.2110\n",
            "Epoch 7/30\n",
            "1460/1460 [==============================] - 0s 34us/step - loss: 35956879023.3425\n",
            "Epoch 8/30\n",
            "1460/1460 [==============================] - 0s 33us/step - loss: 34515342613.7425\n",
            "Epoch 9/30\n",
            "1460/1460 [==============================] - 0s 32us/step - loss: 32739435494.7507\n",
            "Epoch 10/30\n",
            "1460/1460 [==============================] - 0s 34us/step - loss: 30633207145.9069\n",
            "Epoch 11/30\n",
            "1460/1460 [==============================] - 0s 33us/step - loss: 28220034477.2384\n",
            "Epoch 12/30\n",
            "1460/1460 [==============================] - 0s 32us/step - loss: 25566345855.6493\n",
            "Epoch 13/30\n",
            "1460/1460 [==============================] - 0s 32us/step - loss: 22741986980.1205\n",
            "Epoch 14/30\n",
            "1460/1460 [==============================] - 0s 31us/step - loss: 19869867714.9808\n",
            "Epoch 15/30\n",
            "1460/1460 [==============================] - 0s 32us/step - loss: 17042842368.7014\n",
            "Epoch 16/30\n",
            "1460/1460 [==============================] - 0s 32us/step - loss: 14366141201.5342\n",
            "Epoch 17/30\n",
            "1460/1460 [==============================] - 0s 33us/step - loss: 11942861680.9205\n",
            "Epoch 18/30\n",
            "1460/1460 [==============================] - 0s 33us/step - loss: 9863449128.6795\n",
            "Epoch 19/30\n",
            "1460/1460 [==============================] - 0s 33us/step - loss: 8167387728.6575\n",
            "Epoch 20/30\n",
            "1460/1460 [==============================] - 0s 32us/step - loss: 6852423043.1562\n",
            "Epoch 21/30\n",
            "1460/1460 [==============================] - 0s 31us/step - loss: 5910544816.0438\n",
            "Epoch 22/30\n",
            "1460/1460 [==============================] - 0s 33us/step - loss: 5259747929.7753\n",
            "Epoch 23/30\n",
            "1460/1460 [==============================] - 0s 33us/step - loss: 4840629127.3644\n",
            "Epoch 24/30\n",
            "1460/1460 [==============================] - 0s 32us/step - loss: 4594063098.3890\n",
            "Epoch 25/30\n",
            "1460/1460 [==============================] - 0s 33us/step - loss: 4453954949.9616\n",
            "Epoch 26/30\n",
            "1460/1460 [==============================] - 0s 32us/step - loss: 4379268961.4904\n",
            "Epoch 27/30\n",
            "1460/1460 [==============================] - 0s 36us/step - loss: 4340873798.1370\n",
            "Epoch 28/30\n",
            "1460/1460 [==============================] - 0s 35us/step - loss: 4320899327.2986\n",
            "Epoch 29/30\n",
            "1460/1460 [==============================] - 0s 34us/step - loss: 4309744495.5178\n",
            "Epoch 30/30\n",
            "1460/1460 [==============================] - 0s 31us/step - loss: 4299583838.6849\n"
          ],
          "name": "stdout"
        },
        {
          "output_type": "execute_result",
          "data": {
            "text/plain": [
              "<keras.callbacks.callbacks.History at 0x7f21ff959358>"
            ]
          },
          "metadata": {
            "tags": []
          },
          "execution_count": 13
        }
      ]
    },
    {
      "cell_type": "code",
      "metadata": {
        "id": "qOJf24RuO24e",
        "colab_type": "code",
        "colab": {
          "base_uri": "https://localhost:8080/",
          "height": 34
        },
        "outputId": "2a67125f-a204-4ff1-fe8a-0f877c60f882"
      },
      "source": [
        "test_model = np.array([2003\t,854\t,1710,\t2,\t1,\t3,\t8,\t2008])\n",
        "test_model_reshaped = test_model.reshape(1,8)\n",
        "ourPred = model.predict(test_model_reshaped)\n",
        "print(ourPred)"
      ],
      "execution_count": null,
      "outputs": [
        {
          "output_type": "stream",
          "text": [
            "[[205926.1]]\n"
          ],
          "name": "stdout"
        }
      ]
    },
    {
      "cell_type": "code",
      "metadata": {
        "id": "tOx-a70HQaWg",
        "colab_type": "code",
        "colab": {}
      },
      "source": [
        "model.save('housing_model.h5')"
      ],
      "execution_count": null,
      "outputs": []
    },
    {
      "cell_type": "code",
      "metadata": {
        "id": "PmMbAwF4Q2kO",
        "colab_type": "code",
        "colab": {}
      },
      "source": [
        ""
      ],
      "execution_count": null,
      "outputs": []
    }
  ]
}